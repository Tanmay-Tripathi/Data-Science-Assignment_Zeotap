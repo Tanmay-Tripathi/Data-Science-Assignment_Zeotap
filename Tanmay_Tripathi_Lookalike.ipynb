{
 "cells": [
  {
   "cell_type": "code",
   "execution_count": 13,
   "metadata": {},
   "outputs": [],
   "source": [
    "# !pip3 install scikit-learn\n",
    "import pandas as pd\n",
    "from sklearn.preprocessing import StandardScaler\n",
    "from sklearn.metrics.pairwise import cosine_similarity"
   ]
  },
  {
   "cell_type": "code",
   "execution_count": 14,
   "metadata": {},
   "outputs": [],
   "source": [
    "customers = pd.read_csv('Customers.csv')\n",
    "products = pd.read_csv('Products.csv')\n",
    "transactions = pd.read_csv('Transactions.csv')"
   ]
  },
  {
   "cell_type": "code",
   "execution_count": 15,
   "metadata": {},
   "outputs": [],
   "source": [
    "customers['SignupDate'] = pd.to_datetime(customers['SignupDate'])\n",
    "transactions['TransactionDate'] = pd.to_datetime(transactions['TransactionDate'])"
   ]
  },
  {
   "cell_type": "code",
   "execution_count": 17,
   "metadata": {},
   "outputs": [],
   "source": [
    "merged_data = transactions.merge(customers, on='CustomerID', how='left')\n",
    "merged_data = merged_data.merge(products, on='ProductID', how='left')"
   ]
  },
  {
   "cell_type": "code",
   "execution_count": 18,
   "metadata": {},
   "outputs": [],
   "source": [
    "customer_features = merged_data.groupby('CustomerID').agg({\n",
    "    'TotalValue': 'sum',  # Total purchase value\n",
    "    'Quantity': 'sum',    # Total quantity purchased\n",
    "    'Price_x': 'mean',      # Average product price\n",
    "    'ProductID': 'nunique',  # Number of unique products purchased\n",
    "    'Region': 'first',    # Region (categorical)\n",
    "    'SignupDate': 'first' # Signup date\n",
    "}).reset_index()\n"
   ]
  },
  {
   "cell_type": "code",
   "execution_count": 19,
   "metadata": {},
   "outputs": [],
   "source": [
    "customer_features = pd.get_dummies(customer_features, columns=['Region'], drop_first=True)"
   ]
  },
  {
   "cell_type": "code",
   "execution_count": 20,
   "metadata": {},
   "outputs": [],
   "source": [
    "customer_features['SignupDays'] = (customer_features['SignupDate'].max() - customer_features['SignupDate']).dt.days\n",
    "customer_features.drop(columns=['SignupDate'], inplace=True)"
   ]
  },
  {
   "cell_type": "code",
   "execution_count": 21,
   "metadata": {},
   "outputs": [],
   "source": [
    "scaler = StandardScaler()\n",
    "numeric_cols = ['TotalValue', 'Quantity', 'Price_x', 'ProductID', 'SignupDays']\n",
    "customer_features[numeric_cols] = scaler.fit_transform(customer_features[numeric_cols])"
   ]
  },
  {
   "cell_type": "code",
   "execution_count": 22,
   "metadata": {},
   "outputs": [],
   "source": [
    "similarity_matrix = cosine_similarity(customer_features[numeric_cols])\n",
    "similarity_df = pd.DataFrame(similarity_matrix, index=customer_features['CustomerID'], columns=customer_features['CustomerID'])\n"
   ]
  },
  {
   "cell_type": "code",
   "execution_count": 23,
   "metadata": {},
   "outputs": [],
   "source": [
    "lookalike_map = {}\n",
    "for cust_id in customer_features['CustomerID']:\n",
    "    similar_customers = similarity_df[cust_id].sort_values(ascending=False).iloc[1:4]\n",
    "    lookalike_map[cust_id] = list(zip(similar_customers.index, similar_customers.values))"
   ]
  },
  {
   "cell_type": "code",
   "execution_count": 24,
   "metadata": {},
   "outputs": [],
   "source": [
    "first_20_customers = customer_features['CustomerID'].head(20)\n",
    "lookalike_results = {cust_id: lookalike_map[cust_id] for cust_id in first_20_customers}"
   ]
  },
  {
   "cell_type": "code",
   "execution_count": 26,
   "metadata": {},
   "outputs": [
    {
     "name": "stdout",
     "output_type": "stream",
     "text": [
      "Lookalike model completed. Results saved to 'Lookalike.csv'.\n"
     ]
    }
   ],
   "source": [
    "lookalike_list = []\n",
    "for cust_id, lookalikes in lookalike_results.items():\n",
    "    for similar_cust_id, score in lookalikes:\n",
    "        lookalike_list.append({'cust_id': cust_id, 'similar_cust_id': similar_cust_id, 'score': score})\n",
    "\n",
    "lookalike_df = pd.DataFrame(lookalike_list)\n",
    "lookalike_df.to_csv('Anuneet_Rastogi_Lookalike.csv', index=False)\n",
    "\n",
    "# Summary\n",
    "print(\"Lookalike model completed. Results saved to 'Lookalike.csv'.\")"
   ]
  }
 ],
 "metadata": {
  "kernelspec": {
   "display_name": "Python 3",
   "language": "python",
   "name": "python3"
  },
  "language_info": {
   "codemirror_mode": {
    "name": "ipython",
    "version": 3
   },
   "file_extension": ".py",
   "mimetype": "text/x-python",
   "name": "python",
   "nbconvert_exporter": "python",
   "pygments_lexer": "ipython3",
   "version": "3.12.8"
  }
 },
 "nbformat": 4,
 "nbformat_minor": 2
}
